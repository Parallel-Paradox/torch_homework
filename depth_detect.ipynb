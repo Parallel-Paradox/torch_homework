{
 "cells": [
  {
   "cell_type": "code",
   "execution_count": 5,
   "outputs": [
    {
     "name": "stdout",
     "output_type": "stream",
     "text": [
      " - data_2d length: 8000\n",
      " - 2d sample: tensor([  0.,   0.,  93., -94., 150.,   5.,   3.,   0.,  81., -94., 154.,   5.])\n",
      " - data_3d length: 8000\n",
      " - 3d sample: tensor([0.2960, 0.6361, 0.7125, 0.1213, 0.4975, 0.4101])\n"
     ]
    }
   ],
   "source": [
    "import torch\n",
    "\n",
    "\n",
    "def split_to_float(path):\n",
    "    \"\"\" Read a file, split by line, transfer from string list to float tensor.\n",
    "\n",
    "    :param path: .txt input path.\n",
    "    :return: list with (12, n) shape, n = the number of line.\n",
    "    \"\"\"\n",
    "    data2d_file = open(path)\n",
    "    data2d = []\n",
    "    for line in data2d_file:\n",
    "        string_format = line.strip().split(' ')\n",
    "        float_line = []\n",
    "        for item in string_format:\n",
    "            float_line.append(float(item))\n",
    "        data2d.append(torch.tensor(float_line))\n",
    "    return data2d\n",
    "\n",
    "\n",
    "all_2d = split_to_float(\"./depth_data/data2dtrain.txt\")\n",
    "all_3d = split_to_float(\"./depth_data/data3d2train.txt\")\n",
    "print(f\" - data_2d length: {len(all_2d)}\\n\"\n",
    "      f\" - 2d sample: {all_2d[0]}\\n\"\n",
    "      f\" - data_3d length: {len(all_3d)}\\n\"\n",
    "      f\" - 3d sample: {all_3d[0]}\")\n",
    "\n",
    "train_2d = all_2d[0:7000]\n",
    "train_3d = all_3d[0:7000]\n",
    "verify_2d = all_2d[7000:8000]\n",
    "verify_3d = all_3d[7000:8000]"
   ],
   "metadata": {
    "collapsed": false,
    "pycharm": {
     "name": "#%%\n"
    }
   }
  },
  {
   "cell_type": "code",
   "execution_count": 6,
   "outputs": [
    {
     "name": "stdout",
     "output_type": "stream",
     "text": [
      "train dataset size: 7000\n",
      "verify dataset size: 7000\n",
      "(tensor([  0.,   0.,  93., -94., 150.,   5.,   3.,   0.,  81., -94., 154.,   5.]), tensor([0.2960, 0.6361, 0.7125, 0.1213, 0.4975, 0.4101]))\n"
     ]
    }
   ],
   "source": [
    "from torch.utils.data import Dataset\n",
    "\n",
    "\n",
    "class AngleDataset(Dataset):\n",
    "    def __init__(self, info_2d, info_3d):\n",
    "        self.info_2d = info_2d\n",
    "        self.info_3d = info_3d\n",
    "        self.length = len(info_2d)\n",
    "\n",
    "    def __len__(self):\n",
    "        return self.length\n",
    "\n",
    "    def __getitem__(self, item):\n",
    "        if type(item) == int:\n",
    "            if 0 <= item < self.length:\n",
    "                return self.info_2d[item], self.info_3d[item]\n",
    "            else:\n",
    "                raise IndexError(\"Index out of range!\")\n",
    "        else:\n",
    "            raise TypeError(\"Type of index has to be int!\")\n",
    "\n",
    "\n",
    "train_dataset = AngleDataset(train_2d, train_3d)\n",
    "print(\"train dataset size:\", len(train_dataset))\n",
    "\n",
    "verify_dataset = AngleDataset(verify_2d, verify_3d)\n",
    "print(\"verify dataset size:\", len(train_dataset))\n",
    "\n",
    "print(train_dataset[0])"
   ],
   "metadata": {
    "collapsed": false,
    "pycharm": {
     "name": "#%%\n"
    }
   }
  },
  {
   "cell_type": "code",
   "execution_count": 7,
   "outputs": [
    {
     "name": "stdout",
     "output_type": "stream",
     "text": [
      "[1,   500 * 4] loss 0.144\n",
      "[1,  1000 * 4] loss 0.044\n",
      "[1,  1500 * 4] loss 0.039\n",
      "Finished Training\n"
     ]
    }
   ],
   "source": [
    "import torch.nn as nn\n",
    "import torch.nn.functional as f\n",
    "import torch.optim as optim\n",
    "from torch.utils.data import DataLoader\n",
    "\n",
    "\n",
    "class Net(nn.Module):\n",
    "    def __init__(self):\n",
    "        super().__init__()\n",
    "        self.fc1 = nn.Linear(12, 24)\n",
    "        self.fc2 = nn.Linear(24, 16)\n",
    "        self.fc3 = nn.Linear(16, 8)\n",
    "        self.fc4 = nn.Linear(8, 6)\n",
    "\n",
    "    def forward(self, x):\n",
    "        x = f.relu(self.fc1(x))\n",
    "        x = f.relu(self.fc2(x))\n",
    "        x = f.relu(self.fc3(x))\n",
    "        x = self.fc4(x)\n",
    "\n",
    "        return x\n",
    "\n",
    "\n",
    "train_loader = DataLoader(train_dataset, batch_size=4)\n",
    "net = Net()\n",
    "criterion = nn.MSELoss(reduction=\"mean\")\n",
    "optimizer = optim.SGD(net.parameters(), lr=0.001, momentum=0.9)\n",
    "\n",
    "\n",
    "for epoch in range(1):  # loop over the dataset multiple times\n",
    "    running_loss = 0.0\n",
    "    for i, data in enumerate(train_loader, 0):\n",
    "        item_2d, item_3d = data\n",
    "\n",
    "        optimizer.zero_grad()\n",
    "        outputs = net(item_2d)\n",
    "        loss = criterion(outputs, item_3d)\n",
    "        loss.backward()\n",
    "        optimizer.step()\n",
    "        running_loss += loss.item()\n",
    "\n",
    "        if i % 500 == 499:\n",
    "            print(f\"[{epoch + 1}, {i + 1:5d} * 4] loss {running_loss / 500:.3f}\")\n",
    "            running_loss = 0.0\n",
    "\n",
    "print(\"Finished Training\")"
   ],
   "metadata": {
    "collapsed": false,
    "pycharm": {
     "name": "#%%\n"
    }
   }
  },
  {
   "cell_type": "code",
   "execution_count": 8,
   "outputs": [
    {
     "name": "stdout",
     "output_type": "stream",
     "text": [
      "Verify loss: 0.03502192367240787\n"
     ]
    }
   ],
   "source": [
    "verify_loader = DataLoader(verify_dataset, batch_size=4)\n",
    "\n",
    "running_loss = 0.0\n",
    "for i, data in enumerate(verify_loader, 0):\n",
    "    item_2d, item_3d = data\n",
    "    outputs = net(item_2d)\n",
    "    loss = criterion(outputs, item_3d)\n",
    "    running_loss += loss.item()\n",
    "running_loss /= len(verify_dataset) / 4\n",
    "\n",
    "print(\"Verify loss:\", running_loss)"
   ],
   "metadata": {
    "collapsed": false,
    "pycharm": {
     "name": "#%%\n"
    }
   }
  },
  {
   "cell_type": "markdown",
   "source": [
    "```\n",
    "Sample verify ground truth:\n",
    "tensor([[0.5113, 0.1653, 0.6187, 0.5566, 0.0868, 0.5515],\n",
    "        [0.4644, 0.3139, 0.4590, 0.7452, 0.3005, 0.4782],\n",
    "        [0.7532, 0.7513, 0.6178, 0.3636, 0.7596, 0.4728],\n",
    "        [0.6101, 0.4775, 0.6080, 0.5423, 0.7396, 0.7974]])\n",
    "```\n",
    "```\n",
    "Sample verify result:\n",
    "tensor([[0.5112, 0.3709, 0.4689, 0.5273, 0.4510, 0.5135],\n",
    "        [0.4717, 0.3608, 0.4494, 0.4892, 0.4455, 0.5010],\n",
    "        [0.6755, 0.8832, 0.5825, 0.6136, 0.7112, 0.4537],\n",
    "        [0.4873, 0.3648, 0.4571, 0.5043, 0.4477, 0.5059]])\n",
    "```"
   ],
   "metadata": {
    "collapsed": false,
    "pycharm": {
     "name": "#%% md\n"
    }
   }
  }
 ],
 "metadata": {
  "kernelspec": {
   "display_name": "Python 3",
   "language": "python",
   "name": "python3"
  },
  "language_info": {
   "codemirror_mode": {
    "name": "ipython",
    "version": 2
   },
   "file_extension": ".py",
   "mimetype": "text/x-python",
   "name": "python",
   "nbconvert_exporter": "python",
   "pygments_lexer": "ipython2",
   "version": "2.7.6"
  }
 },
 "nbformat": 4,
 "nbformat_minor": 0
}