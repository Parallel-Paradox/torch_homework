{
 "cells": [
  {
   "cell_type": "code",
   "execution_count": 3,
   "outputs": [
    {
     "name": "stdout",
     "output_type": "stream",
     "text": [
      "dataset size: 13680\n",
      "(tensor([[  0.,   0.,   0.,   0.,   0.],\n",
      "        [  0.,   0.,   0.,   0.,   0.],\n",
      "        [  0.,   0.,  12., 233., 255.],\n",
      "        [  0.,   0.,  12., 233., 255.],\n",
      "        [  0.,   0.,   7., 201., 255.]], dtype=torch.float64), 1)\n"
     ]
    }
   ],
   "source": [
    "# Custom torch Dataset\n",
    "import os\n",
    "import numpy as np\n",
    "import random\n",
    "import torch\n",
    "from torch.utils.data import Dataset\n",
    "from PIL import Image\n",
    "\n",
    "\n",
    "class EdgeDataset(Dataset):\n",
    "    def get_negative_pair(self, image_id, label, center):\n",
    "        \"\"\"give the center coordinate of positive, scan and get a negative surround\"\"\"\n",
    "        negative = []\n",
    "        for row in range(center[0]-2, center[0]+3):\n",
    "            for col in range(center[1]-2, center[1]+3):\n",
    "                if col < 0 or col > len(label[row]):\n",
    "                    continue\n",
    "                if 0 <= row < len(label) and 0 <= col < len(label[row]) and label[row][col] == 0:\n",
    "                    negative.append((image_id, row, col, 0))\n",
    "        return negative[random.randint(0, len(negative)-1)]\n",
    "\n",
    "    def set_attention(self, image_id):\n",
    "        \"\"\"get the positive list with its negative pair, ignore the other\"\"\"\n",
    "        label = self.label_list[image_id]\n",
    "        attention = []    # positive and negative coordinate that is going to be saved.\n",
    "        for row in range(0, len(label)):\n",
    "            for col in range(0, len(label[row])):\n",
    "                if label[row][col] != 0:   # positive coordinate\n",
    "                    attention.append((image_id, row, col, 1))\n",
    "                    attention.append(self.get_negative_pair(image_id, label, (row, col)))   # negative pair\n",
    "        return attention\n",
    "\n",
    "    def __init__(self, image_path, label_path):\n",
    "        \"\"\"Edge detect dataset.\n",
    "            Add several random pure color block to make pos:neg equals to 1:2. \\n\n",
    "            No extra pure plock is stored, but return pure color when index is in a specific range. \\n\n",
    "\n",
    "        :param image_path: source image path\n",
    "        :param label_path: label image path\n",
    "        \"\"\"\n",
    "        self.point_list = []\n",
    "\n",
    "        file_name = os.listdir(image_path)\n",
    "        self.image_list = []\n",
    "        self.label_list = []\n",
    "        for name in file_name:\n",
    "            image = Image.open(image_path + name)\n",
    "            label = Image.open(label_path + name)\n",
    "            self.image_list.append(np.array(image))\n",
    "            self.label_list.append(np.array(label))\n",
    "\n",
    "        for img_id in range(0, len(self.image_list)):\n",
    "            self.point_list.extend(self.set_attention(img_id))\n",
    "\n",
    "        self.size = len(self.point_list)    # length of meaningful point\n",
    "        self.length = int(self.size * 1.5)  # length of index access range\n",
    "\n",
    "    def __len__(self):\n",
    "        return self.length\n",
    "\n",
    "    @staticmethod\n",
    "    def from_center_5x5(arr, center_row, center_col):\n",
    "        \"\"\"sample a 5x5 sub array from data by center coordinate\"\"\"\n",
    "        center_5x5 = np.zeros((5, 5))\n",
    "        for row in range(center_row - 2, center_row + 3):\n",
    "            for col in range(center_col - 2, center_col + 3):\n",
    "                if 0 <= row < len(arr) and 0 <= col < len(arr[row]):\n",
    "                    center_5x5[row - center_row + 2][col - center_col + 2] = arr[row][col]\n",
    "        return center_5x5\n",
    "\n",
    "    def __getitem__(self, index):\n",
    "        if type(index) == int:\n",
    "            if 0 <= index < self.size:\n",
    "                point = self.point_list[index]\n",
    "                image_slice = self.from_center_5x5(self.image_list[point[0]], point[1], point[2])\n",
    "                image_slice = torch.tensor(image_slice)\n",
    "                return image_slice, point[3]\n",
    "            elif self.size <= index < self.length:\n",
    "                image_slice = torch.full((5, 5), random.randint(0, 255))\n",
    "                return image_slice, 0\n",
    "            else:\n",
    "                raise IndexError(\"Index out of range!\")\n",
    "        else:\n",
    "            raise TypeError(\"Type of index has to be int!\")\n",
    "\n",
    "\n",
    "dataset = EdgeDataset(\"./source_images(examples)/data/\", \"./source_images(examples)/edge/\")\n",
    "print(\"dataset size:\", len(dataset))\n",
    "print(dataset[0])"
   ],
   "metadata": {
    "collapsed": false,
    "pycharm": {
     "name": "#%%\n"
    }
   }
  },
  {
   "cell_type": "code",
   "execution_count": 4,
   "outputs": [
    {
     "name": "stdout",
     "output_type": "stream",
     "text": [
      "[1,  1000 * 4] loss 0.643\n",
      "[1,  2000 * 4] loss 0.604\n",
      "[1,  3000 * 4] loss 0.269\n",
      "[2,  1000 * 4] loss 0.073\n",
      "[2,  2000 * 4] loss 0.054\n",
      "[2,  3000 * 4] loss 0.055\n",
      "Finished Training\n"
     ]
    }
   ],
   "source": [
    "import torch.nn as nn\n",
    "import torch.nn.functional as f\n",
    "import torch.optim as optim\n",
    "from torch.utils.data import DataLoader\n",
    "\n",
    "\n",
    "class Net(nn.Module):\n",
    "    def __init__(self):\n",
    "        super().__init__()\n",
    "        self.fc1 = nn.Linear(25, 16)\n",
    "        self.fc2 = nn.Linear(16, 8)\n",
    "        self.fc3 = nn.Linear(8, 4)\n",
    "        self.fc4 = nn.Linear(4, 2)\n",
    "\n",
    "    def forward(self, x):\n",
    "        x = torch.flatten(x, 1).to(torch.float32)\n",
    "        x = torch.divide(x, 255.0)\n",
    "        x = f.relu(self.fc1(x))\n",
    "        x = f.relu(self.fc2(x))\n",
    "        x = f.relu(self.fc3(x))\n",
    "        x = self.fc4(x)\n",
    "\n",
    "        return x\n",
    "\n",
    "\n",
    "train_loader = DataLoader(dataset, batch_size=4, shuffle=True)\n",
    "net = Net()\n",
    "criterion = nn.CrossEntropyLoss()\n",
    "optimizer = optim.SGD(net.parameters(), lr=0.001, momentum=0.9)\n",
    "\n",
    "for epoch in range(2):  # loop over the dataset multiple times\n",
    "    running_loss = 0.0\n",
    "    for i, data in enumerate(train_loader, 0):\n",
    "        img_slice, img_label = data\n",
    "\n",
    "        optimizer.zero_grad()\n",
    "        outputs = net(img_slice)\n",
    "        loss = criterion(outputs, img_label)\n",
    "        loss.backward()\n",
    "        optimizer.step()\n",
    "        running_loss += loss.item()\n",
    "\n",
    "        if i % 1000 == 999:\n",
    "            print(f\"[{epoch + 1}, {i + 1:5d} * 4] loss {running_loss / 1000:.3f}\")\n",
    "            running_loss = 0.0\n",
    "\n",
    "print(\"Finished Training\")"
   ],
   "metadata": {
    "collapsed": false,
    "pycharm": {
     "name": "#%%\n"
    }
   }
  },
  {
   "cell_type": "code",
   "execution_count": 5,
   "outputs": [
    {
     "data": {
      "text/plain": "<PIL.Image.Image image mode=L size=240x240>",
      "image/png": "[encoded data removed]"
     },
     "execution_count": 5,
     "metadata": {},
     "output_type": "execute_result"
    }
   ],
   "source": [
    "def edge_detect(image_path, file_name):\n",
    "    image = np.array(Image.open(image_path + file_name).convert('L'))\n",
    "    height = len(image)\n",
    "    width = len(image[0])\n",
    "    edge = np.zeros((height, width))\n",
    "    for row in range(0, len(image)):\n",
    "        for col in range(0, len(image[row])):\n",
    "            input_slice = EdgeDataset.from_center_5x5(image, row, col)\n",
    "            input_slice = input_slice[np.newaxis, :, :]\n",
    "            pix_output = net(torch.tensor(input_slice))\n",
    "            if pix_output[0][0] > pix_output[0][1]:\n",
    "                edge[row][col] = 0\n",
    "            else:\n",
    "                edge[row][col] = 255\n",
    "    edge = np.uint8(edge)\n",
    "    return Image.fromarray(edge)\n",
    "\n",
    "edge_detect(\"./source_images(examples)/data/\", \"4-0-0-0-1-0.bmp\")"
   ],
   "metadata": {
    "collapsed": false,
    "pycharm": {
     "name": "#%%\n"
    }
   }
  },
  {
   "cell_type": "code",
   "execution_count": 6,
   "outputs": [
    {
     "data": {
      "text/plain": "<PIL.Image.Image image mode=L size=240x240>",
      "image/png": "[encoded data removed]"
     },
     "execution_count": 6,
     "metadata": {},
     "output_type": "execute_result"
    }
   ],
   "source": [
    "edge_detect(\"./test_images/synthetic characters/\", \"0-0-0-0-0.bmp\")"
   ],
   "metadata": {
    "collapsed": false,
    "pycharm": {
     "name": "#%%\n"
    }
   }
  },
  {
   "cell_type": "code",
   "execution_count": 7,
   "outputs": [
    {
     "data": {
      "text/plain": "<PIL.Image.Image image mode=L size=240x240>",
      "image/png": "[encoded data removed]"
     },
     "execution_count": 7,
     "metadata": {},
     "output_type": "execute_result"
    }
   ],
   "source": [
    "edge_detect(\"./test_images/synthetic characters/\", \"0-0-0-0-1.bmp\")"
   ],
   "metadata": {
    "collapsed": false,
    "pycharm": {
     "name": "#%%\n"
    }
   }
  },
  {
   "cell_type": "code",
   "execution_count": 8,
   "outputs": [
    {
     "data": {
      "text/plain": "<PIL.Image.Image image mode=L size=240x240>",
      "image/png": "[encoded data removed]"
     },
     "execution_count": 8,
     "metadata": {},
     "output_type": "execute_result"
    }
   ],
   "source": [
    "edge_detect(\"./test_images/synthetic characters/\", \"0-0-0-0-2.bmp\")"
   ],
   "metadata": {
    "collapsed": false,
    "pycharm": {
     "name": "#%%\n"
    }
   }
  },
  {
   "cell_type": "code",
   "execution_count": 9,
   "outputs": [
    {
     "data": {
      "text/plain": "<PIL.Image.Image image mode=L size=240x240>",
      "image/png": "[encoded data removed]"
     },
     "execution_count": 9,
     "metadata": {},
     "output_type": "execute_result"
    }
   ],
   "source": [
    "edge_detect(\"./test_images/synthetic characters/\", \"0-0-0-0-3.bmp\")"
   ],
   "metadata": {
    "collapsed": false,
    "pycharm": {
     "name": "#%%\n"
    }
   }
  }
 ],
 "metadata": {
  "kernelspec": {
   "display_name": "Python 3",
   "language": "python",
   "name": "python3"
  },
  "language_info": {
   "codemirror_mode": {
    "name": "ipython",
    "version": 2
   },
   "file_extension": ".py",
   "mimetype": "text/x-python",
   "name": "python",
   "nbconvert_exporter": "python",
   "pygments_lexer": "ipython2",
   "version": "2.7.6"
  }
 },
 "nbformat": 4,
 "nbformat_minor": 0
}